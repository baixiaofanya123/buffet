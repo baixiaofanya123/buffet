{
 "cells": [
  {
   "cell_type": "code",
   "execution_count": 1,
   "metadata": {},
   "outputs": [],
   "source": [
    "import numpy as np\n",
    "import torch\n",
    "import gym\n",
    "import matplotlib\n",
    "import matplotlib.pyplot as plt\n",
    "\n",
    "import torch.nn as nn\n",
    "import torch.optim as optim\n",
    "%matplotlib inline\n",
    "\n",
    "from collections import deque\n",
    "from IPython import display"
   ]
  },
  {
   "cell_type": "code",
   "execution_count": 2,
   "metadata": {},
   "outputs": [
    {
     "name": "stdout",
     "output_type": "stream",
     "text": [
      "cpu\n"
     ]
    }
   ],
   "source": [
    "device = torch.device(\"cuda\" if torch.cuda.is_available() else \"cpu\")\n",
    "print(device)\n",
    "\n",
    "if torch.cuda.is_available():\n",
    "    torch.set_default_tensor_type('torch.cuda.FloatTensor')\n",
    "else:\n",
    "    torch.set_default_tensor_type('torch.FloatTensor')"
   ]
  },
  {
   "cell_type": "code",
   "execution_count": 3,
   "metadata": {},
   "outputs": [],
   "source": [
    "class QFunction(object):\n",
    "        \n",
    "    def __init__(self, obssize, actsize):\n",
    "        \"\"\"\n",
    "        obssize: int dimension of state spac\n",
    "        actsize: int dimension of action space\n",
    "        optimizer: torch optimizer\n",
    "        \"\"\"\n",
    "        self.obssize = obssize\n",
    "        self.actsize = actsize\n",
    "        self.net = self.Net(obssize, actsize)\n",
    "        self.loss_fn = nn.MSELoss()\n",
    "        \n",
    "    def pred(self, states):\n",
    "        \"\"\"\n",
    "        Args\n",
    "            states: torch.tensor (batch_size, obssize)\n",
    "            actions: torch.tensor (batch_size, 1) index of the action to be taken\n",
    "        Return\n",
    "            torch.tensor (batch_size, actsize) of Q(s,a) value of every action for s\n",
    "        \"\"\"\n",
    "        return self.net(states) # shape (batch_size, actsize)\n",
    "        \n",
    "    def loss(self, states, actions, target):\n",
    "        \"\"\"\n",
    "        Args\n",
    "            states: torch.tensor (batch_size, obssize)\n",
    "            actions: torch.tensor (batch_size, 1) index of the action to be taken\n",
    "        Return\n",
    "            Qpreds: torch.tensor (batch_size, actsize) of Q(s,a) value of every action for s\n",
    "        \"\"\"\n",
    "        Qpreds = self.net(states)\n",
    "        Qpreds = Qpreds.gather(1, actions.view(-1,1)) # get Q(s,a) for every action a\n",
    "        return self.loss_fn(Qpreds, target)\n",
    "    \n",
    "    def train(self, states, actions, target):\n",
    "        \"\"\"Returns loss\"\"\"\n",
    "        self.optimizer.zero_grad()\n",
    "        loss = self.loss(states, actions, target)\n",
    "        loss.backward()\n",
    "        self.optimizer.step()\n",
    "        return loss.item()\n",
    "    \n",
    "    def init_op(self, lr, params):\n",
    "        \"\"\"Initialize Optimizer: Adam Optimizer\"\"\"\n",
    "        self.optimizer = optim.Adam(self.net.parameters(),lr, params)\n",
    "        \n",
    "    \"\"\"Neural Network built here\"\"\"\n",
    "    class Net(nn.Module):\n",
    "        def __init__(self, input_size, output_size):\n",
    "            super(QFunction.Net, self).__init__()\n",
    "            #layer sizes\n",
    "            layer_sizes = [256, 256]\n",
    "            \n",
    "            # defining hidden layers\n",
    "            self.layer1 = nn.Linear(input_size, layer_sizes[0])\n",
    "            self.layer2 = nn.Linear(layer_sizes[0], layer_sizes[1])\n",
    "            \n",
    "            # activation\n",
    "            self.sigma = nn.ReLU()\n",
    "            # output logit layer\n",
    "            self.output_layer = nn.Linear(layer_sizes[1], output_size)\n",
    "            \n",
    "        def forward(self, X):\n",
    "            X = self.sigma(self.layer1(X))\n",
    "            X = self.sigma(self.layer2(X))\n",
    "            output = self.output_layer(X)\n",
    "            return output\n",
    "        "
   ]
  },
  {
   "cell_type": "code",
   "execution_count": 4,
   "metadata": {},
   "outputs": [],
   "source": [
    "# Implement replay buffer (Courtesy of IEOR 8100 lab3-DQN)\n",
    "class ReplayBuffer(object):\n",
    "    \n",
    "    def __init__(self, maxlength):\n",
    "        \"\"\"\n",
    "        maxlength: max number of tuples to store in the buffer\n",
    "        if there are more tuples than maxlength, pop out the oldest tuples\n",
    "        \"\"\"\n",
    "        self.buffer = deque()\n",
    "        self.number = 0\n",
    "        self.maxlength = maxlength\n",
    "    \n",
    "    def append(self, experience):\n",
    "        \"\"\"\n",
    "        this function implements appending new experience tuple\n",
    "        experience: a tuple of the form (s,a,r,s^\\prime, priority)\n",
    "        \"\"\"\n",
    "        self.buffer.append(experience)\n",
    "        self.number += 1\n",
    "        \n",
    "    def pop(self):\n",
    "        \"\"\"\n",
    "        pop out the oldest tuples if self.number > self.maxlength\n",
    "        \"\"\"\n",
    "        while self.number > self.maxlength:\n",
    "            self.buffer.popleft()\n",
    "            self.number -= 1\n",
    "    \n",
    "    def sample(self, batchsize):\n",
    "        \"\"\"\n",
    "        this function samples 'batchsize' experience tuples\n",
    "        batchsize: size of the minibatch to be sampled\n",
    "        return: a list of tuples of form (s,a,r,s^\\prime, priority)\n",
    "        \"\"\"\n",
    "        # YOUR CODE HERE\n",
    "        R = []\n",
    "        for i in range(batchsize):\n",
    "            R.append(self.buffer[np.random.randint(self.number)])\n",
    "        return R\n",
    "    \n",
    "    def ada_sample(self, batchsize, priorities):\n",
    "        \"\"\"\n",
    "        adaptive sample from buffer given priority probability\n",
    "        priority_prob: array of priority probability\n",
    "        return: a list of tuples of form (s,a,r,s^\\prime, priority)\n",
    "        \"\"\"\n",
    "        pr_prob = priorities / sum(priorities)\n",
    "        idxs = np.random.choice(len(self.buffer), batchsize, p=pr_prob)\n",
    "        return [self.buffer[i] for i in idxs]"
   ]
  },
  {
   "cell_type": "code",
   "execution_count": 5,
   "metadata": {},
   "outputs": [],
   "source": [
    "def update_target_weights(principal, target, beta=0.8):\n",
    "\n",
    "    for (p_name, p_weights), (t_name, t_weights) in zip(principal.net.state_dict().items(),target.net.state_dict().items()):\n",
    "        # Don't update if this is not a weight.\n",
    "        if not \"weight\" in p_name:\n",
    "            continue\n",
    "\n",
    "        # Transform the parameter as required.\n",
    "        new_weights = (1-beta) * p_weights + beta * t_weights\n",
    "\n",
    "        # Update the parameter.\n",
    "        target.net.state_dict()[t_name].copy_(new_weights)"
   ]
  },
  {
   "cell_type": "code",
   "execution_count": 6,
   "metadata": {},
   "outputs": [],
   "source": [
    "#plotting\n",
    "from pylab import plot\n",
    "def movingaverage(interval, window_size):\n",
    "    window= np.ones(int(window_size))/float(window_size)\n",
    "    return np.convolve(interval, window, 'valid')"
   ]
  },
  {
   "cell_type": "code",
   "execution_count": 7,
   "metadata": {},
   "outputs": [],
   "source": [
    "# initialize environment\n",
    "env = gym.make('MsPacman-ram-v0')\n",
    "obssize = env.observation_space.low.size\n",
    "actsize = env.action_space.n"
   ]
  },
  {
   "cell_type": "code",
   "execution_count": 8,
   "metadata": {},
   "outputs": [],
   "source": [
    "# hyperparams\n",
    "batch_size = 128\n",
    "lr = 1e-3\n",
    "betas=(0.9, 0.999)\n",
    "epsilon = 0.4 # greedy exploration\n",
    "gamma = 0.9\n",
    "tau = 200 # num steps to update Q_target\n",
    "episodes = 1000 # try 10000\n",
    "sample_step = 1000 # number of episodes to collect samples before starting update\n",
    "penalize = -5 # score to penalize if end of episodes\n",
    "max_storage = 10000 # max. samples to store\n",
    "eps_decay_steps = 25\n",
    "eps_decay = 0.9988 # decays to ~.6 at 50000 and ~.25 at 25000\n",
    "print_step = 100\n",
    "\n",
    "# initialize Q and Q_target\n",
    "q_network = QFunction(obssize, actsize)\n",
    "q_network.init_op(lr, betas)\n",
    "\n",
    "q_target = QFunction(obssize, actsize)\n",
    "q_target.init_op(lr, betas)\n",
    "\n",
    "q_network.net.to(device)\n",
    "q_target.net.to(device)\n",
    "\n",
    "buffer = ReplayBuffer(max_storage)"
   ]
  },
  {
   "cell_type": "code",
   "execution_count": 9,
   "metadata": {},
   "outputs": [
    {
     "name": "stdout",
     "output_type": "stream",
     "text": [
      "Sampling experiences from space...\n",
      "Starting Eps: 0/1000\n",
      "Starting Eps: 100/1000\n",
      "Starting Eps: 200/1000\n",
      "Starting Eps: 300/1000\n",
      "Starting Eps: 400/1000\n",
      "Starting Eps: 500/1000\n",
      "Starting Eps: 600/1000\n",
      "Starting Eps: 700/1000\n",
      "Starting Eps: 800/1000\n",
      "Starting Eps: 900/1000\n",
      "CPU times: user 4min 22s, sys: 841 ms, total: 4min 23s\n",
      "Wall time: 4min 30s\n"
     ]
    }
   ],
   "source": [
    "%%time\n",
    "# Starting Eps: 0/1000 ~ 5 minutes to complete\n",
    "print(\"Sampling experiences from space...\")\n",
    "baseline_rewards = []\n",
    "for ep in range(sample_step):\n",
    "    s = env.reset()\n",
    "    done = False\n",
    "    count = 100\n",
    "    if ep % count == 0:\n",
    "        print(\"Starting Eps: {}/{}\".format(ep, sample_step))\n",
    "    rsum = 0\n",
    "    while not done:\n",
    "        a = env.action_space.sample()\n",
    "        s1, r, done, _ = env.step(a)\n",
    "        rsum += r\n",
    "        if done:\n",
    "            r = penalize\n",
    "        buffer.append((s, a, r, s1))\n",
    "    baseline_rewards.append(rsum)"
   ]
  },
  {
   "cell_type": "code",
   "execution_count": 10,
   "metadata": {},
   "outputs": [
    {
     "data": {
      "text/plain": [
       "[<matplotlib.lines.Line2D at 0x119a22f28>]"
      ]
     },
     "execution_count": 10,
     "metadata": {},
     "output_type": "execute_result"
    },
    {
     "data": {
      "image/png": "[encoded data removed]",
      "text/plain": [
       "<Figure size 432x288 with 1 Axes>"
      ]
     },
     "metadata": {
      "needs_background": "light"
     },
     "output_type": "display_data"
    }
   ],
   "source": [
    "rm=movingaverage(baseline_rewards, 500)\n",
    "plt.plot(rm)"
   ]
  },
  {
   "cell_type": "code",
   "execution_count": 11,
   "metadata": {},
   "outputs": [
    {
     "name": "stdout",
     "output_type": "stream",
     "text": [
      "Starting training for Q...\n",
      "Starting Eps: 0/1000\n",
      "Update q_target...\n",
      "Total Reward for ep0: 590.0\n",
      "Starting Eps: 10/1000\n",
      "Starting Eps: 20/1000\n",
      "Starting Eps: 30/1000\n",
      "Starting Eps: 40/1000\n",
      "Starting Eps: 50/1000\n",
      "Starting Eps: 60/1000\n",
      "Starting Eps: 70/1000\n",
      "Starting Eps: 80/1000\n",
      "Starting Eps: 90/1000\n",
      "Starting Eps: 100/1000\n",
      "Total Reward for ep100: 250.0\n",
      "Starting Eps: 110/1000\n",
      "Starting Eps: 120/1000\n",
      "Starting Eps: 130/1000\n",
      "Starting Eps: 140/1000\n",
      "Starting Eps: 150/1000\n",
      "Starting Eps: 160/1000\n",
      "Starting Eps: 170/1000\n",
      "Starting Eps: 180/1000\n",
      "Starting Eps: 190/1000\n",
      "Starting Eps: 200/1000\n",
      "Update q_target...\n",
      "Total Reward for ep200: 470.0\n",
      "Starting Eps: 210/1000\n",
      "Starting Eps: 220/1000\n",
      "Starting Eps: 230/1000\n",
      "Starting Eps: 240/1000\n",
      "Starting Eps: 250/1000\n",
      "Starting Eps: 260/1000\n",
      "Starting Eps: 270/1000\n",
      "Starting Eps: 280/1000\n",
      "Starting Eps: 290/1000\n",
      "Starting Eps: 300/1000\n",
      "Total Reward for ep300: 310.0\n",
      "Starting Eps: 310/1000\n",
      "Starting Eps: 320/1000\n",
      "Starting Eps: 330/1000\n",
      "Starting Eps: 340/1000\n",
      "Starting Eps: 350/1000\n",
      "Starting Eps: 360/1000\n",
      "Starting Eps: 370/1000\n",
      "Starting Eps: 380/1000\n",
      "Starting Eps: 390/1000\n",
      "Starting Eps: 400/1000\n",
      "Update q_target...\n",
      "Total Reward for ep400: 550.0\n",
      "Starting Eps: 410/1000\n",
      "Starting Eps: 420/1000\n",
      "Starting Eps: 430/1000\n",
      "Starting Eps: 440/1000\n",
      "Starting Eps: 450/1000\n",
      "Starting Eps: 460/1000\n",
      "Starting Eps: 470/1000\n",
      "Starting Eps: 480/1000\n",
      "Starting Eps: 490/1000\n",
      "Starting Eps: 500/1000\n",
      "Total Reward for ep500: 470.0\n",
      "Starting Eps: 510/1000\n",
      "Starting Eps: 520/1000\n",
      "Starting Eps: 530/1000\n",
      "Starting Eps: 540/1000\n",
      "Starting Eps: 550/1000\n",
      "Starting Eps: 560/1000\n",
      "Starting Eps: 570/1000\n",
      "Starting Eps: 580/1000\n",
      "Starting Eps: 590/1000\n",
      "Starting Eps: 600/1000\n",
      "Update q_target...\n",
      "Total Reward for ep600: 340.0\n",
      "Starting Eps: 610/1000\n",
      "Starting Eps: 620/1000\n",
      "Starting Eps: 630/1000\n",
      "Starting Eps: 640/1000\n",
      "Starting Eps: 650/1000\n",
      "Starting Eps: 660/1000\n",
      "Starting Eps: 670/1000\n",
      "Starting Eps: 680/1000\n",
      "Starting Eps: 690/1000\n",
      "Starting Eps: 700/1000\n",
      "Total Reward for ep700: 220.0\n",
      "Starting Eps: 710/1000\n",
      "Starting Eps: 720/1000\n",
      "Starting Eps: 730/1000\n",
      "Starting Eps: 740/1000\n",
      "Starting Eps: 750/1000\n",
      "Starting Eps: 760/1000\n",
      "Starting Eps: 770/1000\n",
      "Starting Eps: 780/1000\n",
      "Starting Eps: 790/1000\n",
      "Starting Eps: 800/1000\n",
      "Update q_target...\n",
      "Total Reward for ep800: 300.0\n",
      "Starting Eps: 810/1000\n",
      "Starting Eps: 820/1000\n",
      "Starting Eps: 830/1000\n",
      "Starting Eps: 840/1000\n",
      "Starting Eps: 850/1000\n",
      "Starting Eps: 860/1000\n",
      "Starting Eps: 870/1000\n",
      "Starting Eps: 880/1000\n",
      "Starting Eps: 890/1000\n",
      "Starting Eps: 900/1000\n",
      "Total Reward for ep900: 260.0\n",
      "Starting Eps: 910/1000\n",
      "Starting Eps: 920/1000\n",
      "Starting Eps: 930/1000\n",
      "Starting Eps: 940/1000\n",
      "Starting Eps: 950/1000\n",
      "Starting Eps: 960/1000\n",
      "Starting Eps: 970/1000\n",
      "Starting Eps: 980/1000\n",
      "Starting Eps: 990/1000\n",
      "CPU times: user 6min 47s, sys: 3.57 s, total: 6min 51s\n",
      "Wall time: 7min 12s\n"
     ]
    }
   ],
   "source": [
    "%%time\n",
    "# Starting Eps: 10/1000 ~ 7 minutes to complete\n",
    "print(\"Starting training for Q...\")\n",
    "ep_rewards = []\n",
    "for ep in range(episodes):\n",
    "    s = env.reset()\n",
    "    done = False\n",
    "    count = 10\n",
    "    if ep % count == 0:\n",
    "        print(\"Starting Eps: {}/{}\".format(ep, episodes))\n",
    "        \n",
    "    ep_rsum = 0\n",
    "    while not done:\n",
    "        s_ = torch.tensor(s, dtype=torch.float32)\n",
    "        if np.random.rand() < epsilon:\n",
    "            a = env.action_space.sample()\n",
    "        else:\n",
    "            Q = q_network.pred(s_.view(-1,len(s)))\n",
    "            a = torch.argmax(Q,dim=1)\n",
    "            \n",
    "        s1, r, done, _ = env.step(a)\n",
    "        ep_rsum += r\n",
    "        if done:\n",
    "            r = penalize\n",
    "            \n",
    "        buffer.append((s, a, r, s1))\n",
    "        \n",
    "    ### training ###\n",
    "    replay = buffer.sample(batch_size)\n",
    "    states, actions, rewards, states_1 = zip(*replay)\n",
    "    \n",
    "    states = torch.tensor(states, dtype=torch.float32)\n",
    "    actions = torch.tensor(actions).view(batch_size, -1)\n",
    "    rewards = torch.tensor(rewards).view(batch_size, -1)\n",
    "    states_1 = torch.tensor(states_1, dtype=torch.float32)\n",
    "    \n",
    "    # compute targets\n",
    "    Qtargets, _ = torch.max(q_target.pred(states_1),dim=1)\n",
    "    Qtargets = rewards + gamma * Qtargets\n",
    "    q_network.train(states, actions, Qtargets)\n",
    "    \n",
    "    if ep % tau == 0:\n",
    "        print(\"Update q_target...\")\n",
    "        update_target_weights(q_network, q_target)\n",
    "    \n",
    "    if ep % print_step == 0:\n",
    "        print(\"Total Reward for ep{}: {}\".format(ep, ep_rsum))\n",
    "        \n",
    "    # for decaying epsilon-greedy\n",
    "#     if (ep > 0) and (ep % eps_decay_steps == 0):\n",
    "#         epsilon *= eps_decay\n",
    "\n",
    "    ep_rewards.append(ep_rsum)"
   ]
  },
  {
   "cell_type": "code",
   "execution_count": 12,
   "metadata": {
    "scrolled": true
   },
   "outputs": [
    {
     "data": {
      "text/plain": [
       "[<matplotlib.lines.Line2D at 0x1243ca2e8>]"
      ]
     },
     "execution_count": 12,
     "metadata": {},
     "output_type": "execute_result"
    },
    {
     "data": {
      "image/png": "[encoded data removed]",
      "text/plain": [
       "<Figure size 432x288 with 1 Axes>"
      ]
     },
     "metadata": {
      "needs_background": "light"
     },
     "output_type": "display_data"
    }
   ],
   "source": [
    "rm=movingaverage(ep_rewards, episodes/10)\n",
    "plt.plot(rm)"
   ]
  },
  {
   "cell_type": "code",
   "execution_count": 18,
   "metadata": {
    "scrolled": true
   },
   "outputs": [],
   "source": [
    "# save weights\n",
    "# torch.save(q_network.net.state_dict(), './checkpoints/q_network_weights')"
   ]
  },
  {
   "cell_type": "code",
   "execution_count": 19,
   "metadata": {},
   "outputs": [],
   "source": [
    "# load weights\n",
    "# q_network.net.load_state_dict(torch.load('./checkpoints/q_network_weights'))"
   ]
  },
  {
   "cell_type": "code",
   "execution_count": 20,
   "metadata": {},
   "outputs": [],
   "source": [
    "def play(agent, env):\n",
    "    s = env.reset()\n",
    "    done = False\n",
    "    rsum = 0\n",
    "    actions = []\n",
    "    while not done:\n",
    "        s_ = torch.tensor(s, dtype=torch.float32)\n",
    "        if np.random.rand() < epsilon:\n",
    "            a = env.action_space.sample()\n",
    "        else:\n",
    "            Q = agent.pred(s_.view(-1,len(s)))\n",
    "            a = torch.argmax(Q,dim=1)\n",
    "            \n",
    "        actions.append(a)\n",
    "        s1, r, done, _ = env.step(a)\n",
    "        rsum += r\n",
    "    return actions, rsum"
   ]
  },
  {
   "cell_type": "code",
   "execution_count": 21,
   "metadata": {},
   "outputs": [],
   "source": [
    "actions, rsum = play(q_network, env)"
   ]
  },
  {
   "cell_type": "code",
   "execution_count": 22,
   "metadata": {},
   "outputs": [
    {
     "data": {
      "text/plain": [
       "340.0"
      ]
     },
     "execution_count": 22,
     "metadata": {},
     "output_type": "execute_result"
    }
   ],
   "source": [
    "rsum"
   ]
  },
  {
   "cell_type": "code",
   "execution_count": 23,
   "metadata": {},
   "outputs": [
    {
     "data": {
      "image/png": "[encoded data removed]",
      "text/plain": [
       "<Figure size 432x288 with 1 Axes>"
      ]
     },
     "metadata": {
      "needs_background": "light"
     },
     "output_type": "display_data"
    }
   ],
   "source": [
    "# Courtesy of https://stackoverflow.com/questions/40195740/how-to-run-openai-gym-render-over-a-server\n",
    "env.reset()\n",
    "img = plt.imshow(env.render(mode='rgb_array')) # only call this once\n",
    "for a in actions:\n",
    "    img.set_data(env.render(mode='rgb_array')) # just update the data\n",
    "    display.display(plt.gcf())\n",
    "    display.clear_output(wait=True)\n",
    "    env.step(a)"
   ]
  },
  {
   "cell_type": "code",
   "execution_count": null,
   "metadata": {},
   "outputs": [],
   "source": []
  }
 ],
 "metadata": {
  "kernelspec": {
   "display_name": "Python 3",
   "language": "python",
   "name": "python3"
  },
  "language_info": {
   "codemirror_mode": {
    "name": "ipython",
    "version": 3
   },
   "file_extension": ".py",
   "mimetype": "text/x-python",
   "name": "python",
   "nbconvert_exporter": "python",
   "pygments_lexer": "ipython3",
   "version": "3.6.5"
  }
 },
 "nbformat": 4,
 "nbformat_minor": 2
}

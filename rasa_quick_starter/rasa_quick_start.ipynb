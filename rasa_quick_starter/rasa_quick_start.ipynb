{
 "cells": [
  {
   "cell_type": "markdown",
   "metadata": {},
   "source": [
    "# What is Rasa\n",
    "\n",
    "There are two parts of the model:  \n",
    "1. **NLU** (natural luanguage understanding)  \n",
    "this part has a customizable pipleline which include entity recognition, feature extraction and training the models\n",
    "This supervised machine learning model is to classify a given text to a predefined \"intent\" \n",
    "2. **CORE**   \n",
    "This part is hard-coded **one to one** mapping of each intent with a certain action like function call or just print our a message.\n",
    "You could also customerize a conversation flow with predifined structure. The robot will follow the \"script\" you hard-coded or send out some certain messages."
   ]
  },
  {
   "cell_type": "markdown",
   "metadata": {},
   "source": [
    "# rasa core\n",
    "## set up script\n",
    "Stories.md file \n",
    "## Set up intents and actions\n",
    "domain.yml has intents and actions\n",
    "## provide NLU training data\n",
    "nlu.md has the training data\n",
    "## Backend model configuration\n",
    "nlu_config.yml defines the language and the embeding pipeline (tensorflow by default)"
   ]
  },
  {
   "cell_type": "markdown",
   "metadata": {},
   "source": [
    "# Training the dialogue"
   ]
  },
  {
   "cell_type": "markdown",
   "metadata": {},
   "source": [
    "Open the command prompt and navigate to the **current dictory of this notebook**   \n",
    "run the following code in the command line:\n",
    "\n",
    "train core dialogue\n",
    "`python -m rasa_core.train -d domain.yml -s stories.md -o models/dialogue`"
   ]
  },
  {
   "cell_type": "code",
   "execution_count": 8,
   "metadata": {},
   "outputs": [],
   "source": [
    "# train NLU \n",
    "# python -m rasa_nlu.train -c nlu_config.yml --data nlu.md -o models --fixed_model_name nlu --project current --verbose"
   ]
  },
  {
   "cell_type": "code",
   "execution_count": null,
   "metadata": {
    "collapsed": true
   },
   "outputs": [],
   "source": [
    "# Start your conversation\n",
    "# python -m rasa_core.run -d models/dialogue -u models/current/nlu"
   ]
  },
  {
   "cell_type": "code",
   "execution_count": null,
   "metadata": {
    "collapsed": true
   },
   "outputs": [],
   "source": [
    "# to end this conversation enter /stop"
   ]
  },
  {
   "cell_type": "markdown",
   "metadata": {},
   "source": [
    "# Potential Issue\n",
    "1. Intent has to be predifined and hard coded\n",
    "2. Conversation structure is fixed and set-up \n",
    "3. If we set up two many Intents, we will need more data to train the model(curse of dimensionality)\n",
    "\n",
    "To sum up, this is a good start and useful for structured Q&A  \n",
    "We believe the next generation of the robot might  \n",
    "* use RNN(sequence to sequence model) to generate more natural language \n",
    "* might build a knowledge-base self-learning framework.\n"
   ]
  }
 ],
 "metadata": {
  "kernelspec": {
   "display_name": "Python 3",
   "language": "python",
   "name": "python3"
  },
  "language_info": {
   "codemirror_mode": {
    "name": "ipython",
    "version": 3
   },
   "file_extension": ".py",
   "mimetype": "text/x-python",
   "name": "python",
   "nbconvert_exporter": "python",
   "pygments_lexer": "ipython3",
   "version": "3.6.5"
  }
 },
 "nbformat": 4,
 "nbformat_minor": 2
}
